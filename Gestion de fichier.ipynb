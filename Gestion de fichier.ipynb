{
 "cells": [
  {
   "cell_type": "markdown",
   "id": "db079620",
   "metadata": {},
   "source": [
    "<div>\n",
    "    <h1>Gestion des fichiers</h1>\n",
    "    <p>Python permet très facilement de manipuler des fichiers tout en garantissant\n",
    "        une très bonne portabilité du code quel que soit le système d’exploitation\n",
    "        sur lequel s’exécute le programme (pour peu que le développeur soit attentif\n",
    "        à ce type de problématique).\n",
    "    </p>\n",
    "    <p>Les opérations de manipulation de fichier : écriture, lecture, création, suppression\n",
    "        sont toutes susceptibles d’échouer. Dans ce cas, les fonctions ou les méthodes\n",
    "produiront une erreur de type <strong>OSError</strong> ou d’un type héritant de cette exception.\n",
    "    </p>\n",
    "</div>\n",
    "    "
   ]
  },
  {
   "cell_type": "markdown",
   "id": "a47a0dd5",
   "metadata": {},
   "source": [
    "<div>\n",
    "        <h2>Ouvrir et fermer un fichier</h2>\n",
    "        <p>La fonction <strong>open()</strong> permet de récupérer un descripteur de fichier en\n",
    "            passant en paramètre le chemin de ce fichier. Le descripteur de fichier va\n",
    "            nous permettre de réaliser les opérations de lecture et/ou d’écriture dans le\n",
    "            fichier.\n",
    "        </p>\n",
    "        <p>Un descripteur de fichier est une ressource système. Cela signifie qu’il est\n",
    "            géré par le système d’exploitation. Lorsque les opérations sur le fichier sont\n",
    "            terminées, il faut fermer le descripteur de fichier à l’aide de la méthode\n",
    "            <strong>close()</strong>. Ne pas fermer un descripteur de fichier conduit à une fuite\n",
    "            de ressources (<em>resource leak</em>). Si un programme ouvre trop de fichiers sans\n",
    "            jamais fermer les descripteurs de fichiers, le système d’exploitation peut\n",
    "            finir par refuser d’ouvrir des fichiers supplémentaires.\n",
    "        </p>\n",
    "</div>"
   ]
  },
  {
   "cell_type": "code",
   "execution_count": 5,
   "id": "8e1bb9ef",
   "metadata": {},
   "outputs": [],
   "source": [
    "f = open(\"monfichier.txt\")\n",
    "# faire des opérations sur le contenu du fichier\n",
    "f.close()\n"
   ]
  },
  {
   "cell_type": "markdown",
   "id": "3c96deb9",
   "metadata": {},
   "source": [
    "<p>Comme des erreurs peuvent survenir lors de la lecture ou de l’écriture dans\n",
    "    un fichier ou comme il est très facile d’oublier d’appeler la méthode<strong>\n",
    "    close()</strong>, Python fournit une syntaxe spéciale :\n",
    "  le <strong>with</strong>.</p>"
   ]
  },
  {
   "cell_type": "code",
   "execution_count": 6,
   "id": "5b7e2bd2",
   "metadata": {},
   "outputs": [],
   "source": [
    "with open(\"monfichier.txt\") as f:\n",
    "    # faire des opérations sur le contenu du fichier\n",
    "    pass"
   ]
  },
  {
   "cell_type": "markdown",
   "id": "0c5dc069",
   "metadata": {},
   "source": [
    "<p>La syntaxe with <strong>appelle automatiquement</strong> la méthode close() \n",
    "    du descripteur de fichier à la sortie du bloc (même si\n",
    "    la sortie du bloc est due à une erreur).\n",
    " </p>"
   ]
  },
  {
   "cell_type": "markdown",
   "id": "1d63a42a",
   "metadata": {},
   "source": [
    "<div>\n",
    "    <p><strong>Note</strong></p>\n",
    "    <p>La syntaxe <strong>with</strong> fonctionne en Python pour divers types\n",
    "        de ressources du système : les fichiers, les accès réseau, les processus,\n",
    "        les objets de synchronisation entre processus et threads.\n",
    "    </p>\n",
    "    <p>Vous pouvez gérer plusieurs ressources avec un <strong>with</strong> :</p>\n",
    "</div>\n"
   ]
  },
  {
   "cell_type": "code",
   "execution_count": 8,
   "id": "f1eca383",
   "metadata": {},
   "outputs": [],
   "source": [
    "with open(\"monfichier.txt\") as f, open(\"autrefichier.txt\") as f2:\n",
    "    # faire des opérations sur le contenu des fichiers\n",
    "    pass"
   ]
  },
  {
   "cell_type": "markdown",
   "id": "b3ebb549",
   "metadata": {},
   "source": [
    "<p>Si vous souhaitez développer une classe qui fonctionne comme un gestionnaire\n",
    "    de ressources et dont les instances peuvent être initialisées dans une structure\n",
    "    <strong>with</strong> comme les descripteurs de fichiers, alors votre classe\n",
    "    doit fournir une implémentation pour les méthodes spéciales\n",
    "    <strong>__enter__()</strong> et<strong> __exit__()</strong>\n",
    " </p>\n"
   ]
  },
  {
   "cell_type": "markdown",
   "id": "55a7e1e5",
   "metadata": {},
   "source": [
    "<div>\n",
    "    <h2>Lire le contenu d’un fichier</h2>\n",
    "    <p>Par défaut, la fonction <strong>open()</strong> permet de lire le contenu d’un\n",
    "        fichier texte.\n",
    "    </p>\n",
    "    <p>Supposons que nous ayons un fichier nommé <code color= \"red\">dialogues.txt</code> dans le répertoire\n",
    "        courant.\n",
    "    </p>"
   ]
  },
  {
   "cell_type": "raw",
   "id": "fa521c5e",
   "metadata": {},
   "source": [
    "- Halte ! Qui va là?\n",
    "\n",
    "- C'est moi, Arthur, fils d'Uther Pendragon, du château\n",
    "  de Camelot. Roi des Bretons, vainqueur des Saxons,\n",
    "  souverain de toute l'Angleterre !"
   ]
  },
  {
   "cell_type": "markdown",
   "id": "222958d5",
   "metadata": {},
   "source": [
    "<p>Pour obtenir le contenu du fichier dans une chaîne de caractères :</p>"
   ]
  },
  {
   "cell_type": "code",
   "execution_count": 10,
   "id": "658ccb61",
   "metadata": {},
   "outputs": [
    {
     "name": "stdout",
     "output_type": "stream",
     "text": [
      "- Halte ! Qui va là?\n",
      "\n",
      "- C'est moi, Arthur, fils d'Uther Pendragon, du château\n",
      "  de Camelot. Roi des Bretons, vainqueur des Saxons,\n",
      "  souverain de toute l'Angleterre !\n",
      "\n"
     ]
    }
   ],
   "source": [
    "with open(\"dialogues.txt\") as f:\n",
    "    contenu = f.read()\n",
    "print(contenu)\n"
   ]
  },
  {
   "cell_type": "markdown",
   "id": "6d4c7dd6",
   "metadata": {},
   "source": [
    "<p>Pour obtenir le contenu du fichier sous la forme d’un tableau de chaînes de\n",
    "caractères (un élément par ligne) :</p>"
   ]
  },
  {
   "cell_type": "code",
   "execution_count": 11,
   "id": "7ddcadc6",
   "metadata": {},
   "outputs": [
    {
     "name": "stdout",
     "output_type": "stream",
     "text": [
      "5\n"
     ]
    }
   ],
   "source": [
    "with open(\"dialogues.txt\") as f:\n",
    "    lignes = f.readlines()\n",
    "print(len(lignes))"
   ]
  },
  {
   "cell_type": "markdown",
   "id": "73d0938b",
   "metadata": {},
   "source": [
    "<p>Un descripteur de fichier agit également comme une séquence sur les lignes\n",
    "d’un fichier.</p>"
   ]
  },
  {
   "cell_type": "code",
   "execution_count": 12,
   "id": "2de09b28",
   "metadata": {},
   "outputs": [
    {
     "name": "stdout",
     "output_type": "stream",
     "text": [
      "- Halte ! Qui va là?\n",
      "\n",
      "\n",
      "\n",
      "- C'est moi, Arthur, fils d'Uther Pendragon, du château\n",
      "\n",
      "  de Camelot. Roi des Bretons, vainqueur des Saxons,\n",
      "\n",
      "  souverain de toute l'Angleterre !\n",
      "\n"
     ]
    }
   ],
   "source": [
    "with open(\"dialogues.txt\") as f:\n",
    "    for ligne in f:\n",
    "        print(ligne)"
   ]
  },
  {
   "cell_type": "markdown",
   "id": "8e5d690b",
   "metadata": {},
   "source": [
    "<p> <strong> Note </strong> </p>\n",
    "<p>Lorsqu’on lit un fichier texte, chaque ligne inclue le caractère de retour\n",
    "    à la ligne présent dans le fichier. Pour le supprimer, on peut utiliser\n",
    "    la méthode <strong>str.rstrip()</strong></p>"
   ]
  },
  {
   "cell_type": "code",
   "execution_count": 13,
   "id": "176f7403",
   "metadata": {},
   "outputs": [
    {
     "name": "stdout",
     "output_type": "stream",
     "text": [
      "- Halte ! Qui va là?\n",
      "\n",
      "- C'est moi, Arthur, fils d'Uther Pendragon, du château\n",
      "  de Camelot. Roi des Bretons, vainqueur des Saxons,\n",
      "  souverain de toute l'Angleterre !\n"
     ]
    }
   ],
   "source": [
    "with open(\"dialogues.txt\") as f:\n",
    "    for ligne in f:\n",
    "        print(ligne.rstrip('\\n'))"
   ]
  },
  {
   "cell_type": "markdown",
   "id": "32154b5f",
   "metadata": {},
   "source": [
    "<div>\n",
    "    <h2>Les modes de fichier</h2>\n",
    "    <p>Lorsqu’on ouvre un fichier, il faut préciser le mode d’ouverture qui dépend\n",
    "        du type du fichier et des opérations que l’on souhaite réaliser. Le mode est\n",
    "        représenté par une chaîne de caractères qui est passée à la fonction <strong>open()</strong>\n",
    "        avec le paramètre <strong>mode</strong>.\n",
    "    </p>\n",
    " </div>\n",
    " \n",
    " | Mode | Description |\n",
    "| :--- | :---------- |\n",
    "| r | ouverture en lecture (mode par défaut) |\n",
    "| w | ouverture en écriture (efface le contenu précédent) |\n",
    "| x | ouverture uniquement pour création (l’ouverture échoue si le fichier existe déjà) |\n",
    "| + | ouverture en lecture et écriture |\n",
    "| a | ouverture en écriture pour ajout en fin de fichier |\n",
    "| b | fichier binaire |\n",
    "| t | fichier texte (mode par défaut) |\n",
    "\n",
    "--------\n"
   ]
  },
  {
   "cell_type": "code",
   "execution_count": 15,
   "id": "90652de9",
   "metadata": {},
   "outputs": [],
   "source": [
    "# ouverture en écriture\n",
    "with open(\"dialogues.txt\", mode=\"w\") as f:\n",
    "    pass"
   ]
  },
  {
   "cell_type": "code",
   "execution_count": 16,
   "id": "7e1e70ae",
   "metadata": {},
   "outputs": [],
   "source": [
    "# ouverture d'un fichier binaire en création\n",
    "with open(\"fichier.bin\", mode=\"xb\") as f:\n",
    "    pass"
   ]
  },
  {
   "cell_type": "markdown",
   "id": "260792e7",
   "metadata": {},
   "source": [
    "<div>\n",
    "    <h3>Spécificité du mode texte</h3>\n",
    "    <p>Ouvrir un fichier en mode texte (mode par défaut ou <strong>t</strong>) entraîne\n",
    "        un travail de conversion par Python. Convertir les données d’un fichier\n",
    "        en chaîne de caractères exige d’utiliser une <strong>famille d’encodage</strong>. Il est\n",
    "        possible de préciser la famille d’encodage d’un fichier grâce au paramètre <code> encoding </code>\n",
    "    </p>"
   ]
  },
  {
   "cell_type": "code",
   "execution_count": 18,
   "id": "4f830bfc",
   "metadata": {},
   "outputs": [],
   "source": [
    "# ouverture en écriture\n",
    "with open(\"dialogues.txt\", encoding=\"utf-8\") as f:\n",
    "    pass"
   ]
  },
  {
   "cell_type": "markdown",
   "id": "980dee9d",
   "metadata": {},
   "source": [
    "<p>Si le paramètre <code><span>encoding</span></code> n’est pas spécifié alors Python utilise\n",
    "    un encodage qui est <strong>dépendant du système</strong> qui exécute le code (ce qui\n",
    "    peut nuire à la portabilité des fichiers produits). Pour connaître l’encodage\n",
    "    utilisé par défaut par l’interpréteur, il faut utiliser les méthodes du\n",
    "    module <code ><span>locale</span></code>:</p>\n"
   ]
  },
  {
   "cell_type": "code",
   "execution_count": 19,
   "id": "dc47a3c3",
   "metadata": {},
   "outputs": [
    {
     "data": {
      "text/plain": [
       "'UTF-8'"
      ]
     },
     "execution_count": 19,
     "metadata": {},
     "output_type": "execute_result"
    }
   ],
   "source": [
    "import locale\n",
    "\n",
    "locale.getpreferredencoding()\n",
    "'UTF-8'"
   ]
  },
  {
   "cell_type": "markdown",
   "id": "baa74f23",
   "metadata": {},
   "source": [
    "<p>Le mode texte entraîne également une conversion des caractères de\n",
    "    fin de ligne puisque tous les systèmes d’exploitation n’utilisent pas la même convention.\n",
    "    Python garantit une représentation universelle du caractère de fin de ligne\n",
    "en utilisant <code ><span>\\n</span></code>.\n",
    "</p>\n",
    "<p>Le mode binaire (<code ><span>b</span></code>) est un mode qui permet d’accéder directement au\n",
    "    contenu du fichier sans conversion de la part de Python. Dans ce cas,\n",
    "    la lecture du fichier retourne des <code ><span>bytes</span></code> et non pas des chaînes\n",
    "    de caractères.\n",
    "</p>"
   ]
  },
  {
   "cell_type": "markdown",
   "id": "0cc294a3",
   "metadata": {},
   "source": [
    "<div >\n",
    "<h2>Écrire dans un fichier</h2>\n",
    "<p>Pour écrire d’un bloc dans un fichier, on peut utiliser la méthode\n",
    "    <code><span>write()</span></code> et pour écrire une liste de lignes, il faut utiliser\n",
    "    la méthode <code ><span>writelines()</span></code>. Attention pour les fichiers textes,\n",
    "    ces méthodes n’ajoutent pas de caractères de fin de ligne, il faut donc les\n",
    "    écrire explicitement.\n",
    "</p>"
   ]
  },
  {
   "cell_type": "code",
   "execution_count": 20,
   "id": "05a84a24",
   "metadata": {},
   "outputs": [],
   "source": [
    "lignes = [\"- Pull the other one!\\n\",\n",
    "          \"- I am. And this my trusty servant Patsy.\\n\"]\n",
    "\n",
    "# ouverture d'un fichier texte en ajout\n",
    "with open(\"dialogues.txt\", mode=\"a\") as f:\n",
    "    f.writelines(lignes)\n"
   ]
  },
  {
   "cell_type": "markdown",
   "id": "ff6c0e99",
   "metadata": {},
   "source": [
    "<p><strong>Prudence</strong></p>\n",
    "<p>Il faut se rappeler que le mode d’ouverture en écriture (<code><span>w</span></code>) <strong>remplace\n",
    "    intégralement</strong> le contenu du fichier. Pour ajouter à la fin du fichier, il\n",
    "    faut ouvrir le fichier en mode ajout (<code><span>a</span></code>) sous peine de perdre tout\n",
    "    le contenu précédemment sauvé.\n",
    "</p>"
   ]
  },
  {
   "cell_type": "markdown",
   "id": "5cfcc343",
   "metadata": {},
   "source": [
    "<h2>Chemin de fichier</h2>\n",
    "<p>Les fichiers sont organisés selon une structure arborescente dans laquelle\n",
    "    un nœud peut être soit un fichier soit un répertoire. Même si tous les systèmes\n",
    "    d’exploitation suivent le même principe, il existe des différences majeures\n",
    "    d’organisation. Le système MS-Windows utilise un système de fichiers multi-têtes\n",
    "    (c:, d:, e:…) tandis que les systèmes *nix et MacOS utilisent un système\n",
    "     mono-tête dont la racine est <code ><span>/</span></code>. Dans la représentation des chemins\n",
    "    de fichiers, MS-Windows utilise le caractère <code><span>\\</span></code> pour séparer les composants\n",
    "    d’un chemin :\n",
    "</p>"
   ]
  },
  {
   "cell_type": "raw",
   "id": "34d44994",
   "metadata": {},
   "source": [
    "C:\\\\Users\\david\\Documents\\monfichier.txt"
   ]
  },
  {
   "cell_type": "markdown",
   "id": "a02f2092",
   "metadata": {},
   "source": [
    "<p>tandis que les systèmes *nix et MacOs utilisent le caractère <code><span>/</span></code></p>"
   ]
  },
  {
   "cell_type": "raw",
   "id": "49441913",
   "metadata": {},
   "source": [
    "/home/david/Documents/monfichier.txt"
   ]
  },
  {
   "cell_type": "markdown",
   "id": "1e934867",
   "metadata": {},
   "source": [
    "<p>Enfin, il faut se souvenir que le système de fichiers de MS-Windows n’est pas sensible\n",
    "    à la casse (<em>case insensitive</em>), c’est-à-dire que les mots peuvent être écrits\n",
    "    en lettres majuscules ou en lettres minuscules. Au contraire, les systèmes\n",
    "    *nix et MacOS sont sensibles à la casse (<em>case sensitive</em>), c’est-à-dire qu’un\n",
    "    mot écrit en lettres majuscules est différent d’un mot écrit en lettres minuscules.\n",
    "</p>\n",
    "<p>Toutes ces nuances peuvent rendre difficiles l’écriture d’un programme portable\n",
    "    d’un système à l’autre. Heureusement, la bibliothèque standard Python fournit\n",
    "    plusieurs solutions pour aider les développeurs.\n",
    "</p>"
   ]
  },
  {
   "cell_type": "markdown",
   "id": "4e6cb354",
   "metadata": {},
   "source": [
    "<div >\n",
    "    <h3>Le module <em>os.path</em></h3>\n",
    "<p>Le module <code><span>os.path</span></code> fournit des fonctions élémentaires pour nous aider à\n",
    "    gérer les chemins de fichiers.\n",
    "</p>\n",
    "<dl>\n",
    "    <dt>\n",
    "        <code><span>join()</span></code>\n",
    "    </dt>\n",
    "    <dd>\n",
    "        <p>Cette fonction permet de créer un chemin en utilisant le séparateur approprié\n",
    "            pour le système.\n",
    "        </p> "
   ]
  },
  {
   "cell_type": "code",
   "execution_count": null,
   "id": "7efc4faf",
   "metadata": {},
   "outputs": [],
   "source": [
    "import os.path as path\n",
    "\n",
    "chemin = path.join(\"fichiers\", \"monfichier.txt\")\n",
    "print(chemin)\n",
    "# Sous Windows affiche fichiers\\monfichier.txt\n",
    "# Sous *nix ou MacOS, affiche fichiers/monfichier.txt"
   ]
  },
  {
   "cell_type": "markdown",
   "id": "1475f4c1",
   "metadata": {},
   "source": [
    "<dt><code><span>abspath()</span></code></dt><dd>\n",
    "    <p>Cette fonction retourne le chemin absolu.</p>"
   ]
  },
  {
   "cell_type": "code",
   "execution_count": null,
   "id": "3ef7b02f",
   "metadata": {},
   "outputs": [],
   "source": [
    "import os.path as path\n",
    "\n",
    "chemin = path.abspath(\"monfichier.txt\")\n",
    "print(chemin)\n",
    "# Si le répertoire de travail est /home/david/Documents\n",
    "# affiche /home/david/Documents/monfichier.txt"
   ]
  },
  {
   "cell_type": "markdown",
   "id": "0a411e27",
   "metadata": {},
   "source": [
    "<h3>Le module <em>pathlib</em></h3>\n",
    "<p>Le module <code><span>pathlib</span></code> est un module de haut-niveau qui permet à la fois\n",
    "    de manipuler un chemin mais également d’interagir avec le fichier ou le répertoire\n",
    "    désigné par ce chemin. C’est un module tout-en-un qui facilite grandement le\n",
    "    travail sur les fichiers. L’élément central du module est la classe\n",
    "<code><span>Path</span></code>.\n",
    "</p>\n"
   ]
  },
  {
   "cell_type": "raw",
   "id": "51e8ab75",
   "metadata": {},
   "source": [
    ">>>from pathlib import Path\n",
    "\n",
    ">>>path = Path(\"/\", \"home\", \"david\", \"Documents\", \"monfichier.txt\")\n",
    "\n",
    ">>>str(path)\n",
    "'/home/david/Documents/monfichier.txt'\n",
    "\n",
    ">>>path.parts\n",
    "('/', 'home', 'david', 'Documents', 'monfichier.txt')\n",
    "\n",
    ">>>path.root\n",
    "'/'\n",
    "\n",
    ">>>path.drive\n",
    "''\n",
    "\n",
    ">>>path.name\n",
    "'monfichier.txt'\n",
    "\n",
    ">>>parent = path.parent\n",
    "\n",
    ">>>parent.parts\n",
    "('/', 'home', 'david', 'Documents')\n",
    "\n",
    ">>>path.is_file()\n",
    "True\n",
    "\n",
    ">>>path.is_dir()\n",
    "False\n",
    "\n",
    ">>>path.parent.is_file()\n",
    "False\n",
    "\n",
    ">>>path.parent.is_dir()\n",
    "True\n"
   ]
  },
  {
   "cell_type": "markdown",
   "id": "19542496",
   "metadata": {},
   "source": [
    "<p>La classe<code><span>Path</span></code> possède la méthode <code><span>open()</span></code>\n",
    "    qui accepte les mêmes paramètres que la fonction <code><span>open()</span></code> sauf le chemin\n",
    "    qui est déjà représenté par l’objet lui-même :\n",
    "</p>"
   ]
  },
  {
   "cell_type": "code",
   "execution_count": 23,
   "id": "561a94a2",
   "metadata": {},
   "outputs": [
    {
     "name": "stdout",
     "output_type": "stream",
     "text": [
      "- Pull the other one!\n",
      "\n",
      "- I am. And this my trusty servant Patsy.\n",
      "\n"
     ]
    }
   ],
   "source": [
    "from pathlib import Path\n",
    "\n",
    "\n",
    "chemin = Path(\"dialogues.txt\")\n",
    "\n",
    "with chemin.open() as f:\n",
    "    for ligne in f:\n",
    "        print(ligne)\n"
   ]
  },
  {
   "cell_type": "markdown",
   "id": "3fada2fc",
   "metadata": {},
   "source": [
    "<p>On peut même faire l’économie de ce code en appelant la méthode <code ><span >read_text()</span></code>\n",
    "    qui ouvre le fichier en mode texte, lit l’intégralité du fichier et referme le fichier :\n",
    "</p>"
   ]
  },
  {
   "cell_type": "code",
   "execution_count": 24,
   "id": "42c4037c",
   "metadata": {},
   "outputs": [],
   "source": [
    "from pathlib import Path\n",
    "\n",
    "\n",
    "chemin = Path(\"dialogues.txt\")\n",
    "contenu = chemin.read_text()"
   ]
  },
  {
   "cell_type": "markdown",
   "id": "154d93f9",
   "metadata": {},
   "source": [
    "<p>Pour construire un chemin à partir d’un autre chemin, il suffit\n",
    "    d’utiliser l’opérateur <code ><span>/</span></code> qui est utilisé, non pas comme opérateur de la\n",
    "    division, mais comme le séparateur universel de chemin de fichiers :\n",
    "</p>"
   ]
  },
  {
   "cell_type": "raw",
   "id": "b9ce3ae4",
   "metadata": {},
   "source": [
    ">>>chemin = Path(\"mondossier\")\n",
    "\n",
    ">>>chemin_fichier = chemin / \"mon fichier.txt\"\n",
    "\n",
    ">>>chemin_fichier.parts\n",
    "('mondossier', 'mon fichier.txt')"
   ]
  },
  {
   "cell_type": "raw",
   "id": "82325fbc",
   "metadata": {},
   "source": [
    ">>>chemin_fichier = Path.home() / \"Documents\" / \"monfichier.txt\"\n",
    "\n",
    ">>>str(chemin_fichier)\n",
    "'/home/yann/Documents/monfichier.txt'"
   ]
  },
  {
   "cell_type": "markdown",
   "id": "728efb3d",
   "metadata": {},
   "source": [
    "<h2>Actions sur les fichiers</h2>\n",
    "<p>Il est possible de réaliser des opérations élémentaires sur les fichiers soit avec les modules <code ><span>os</span></code> et <code><span >shutil</span></code> soit avec le module <code><span>pathlib</span></code>.\n",
    "    Les modules <code ><span>os</span></code> et <code >shutil</code> sont historiquement les premiers modules qui ont été introduits\n",
    "    en Python. Ils proposent surtout des fonctions alors que le module <code ><span >pathlib</span></code>\n",
    "    est orienté objet avec notamment la classe <code><span >Path</span></code>.\n",
    "</p>"
   ]
  },
  {
   "cell_type": "markdown",
   "id": "233208aa",
   "metadata": {},
   "source": [
    "<h3>Copier un fichier</h3>\n",
    "<div>Avec le module <code ><span>shutil</span></code></div>\n"
   ]
  },
  {
   "cell_type": "raw",
   "id": "3b2e3b02",
   "metadata": {},
   "source": [
    ">>>import shutil\n",
    "\n",
    ">>>shutil.copy(\"monfichier.txt\", \"macopie.txt\")"
   ]
  },
  {
   "cell_type": "markdown",
   "id": "fbf61cf2",
   "metadata": {},
   "source": [
    "<h3>Supprimer un fichier</h3>\n",
    "<div>Avec le module <code ><span>os</span></code></div>\n"
   ]
  },
  {
   "cell_type": "raw",
   "id": "5dc8658f",
   "metadata": {},
   "source": [
    ">>>import os\n",
    "\n",
    ">>>os.remove(\"monfichier.txt\")\n"
   ]
  },
  {
   "cell_type": "markdown",
   "id": "fbe6acc5",
   "metadata": {},
   "source": [
    "<div>Avec le module <code ><span>os</span></code></div>\n"
   ]
  },
  {
   "cell_type": "raw",
   "id": "9c531eb8",
   "metadata": {},
   "source": [
    ">>>import pathlib\n",
    "\n",
    ">>>p = pathlib.Path(\"monfichier.txt\")\n",
    "\n",
    ">>>p.unlink()"
   ]
  },
  {
   "cell_type": "markdown",
   "id": "90ade857",
   "metadata": {},
   "source": [
    "<h3>Vérifier qu'un fichier existe</h3>\n",
    "<div>Avec le module <code ><span>os.path</span></code></div>\n"
   ]
  },
  {
   "cell_type": "raw",
   "id": "18882005",
   "metadata": {},
   "source": [
    ">>>import os.path\n",
    "\n",
    ">>>os.path.exists(\"monfichier.txt\")"
   ]
  },
  {
   "cell_type": "markdown",
   "id": "3e3b1db6",
   "metadata": {},
   "source": [
    "<div>Avec le module <code ><span>pathlib</span></code></div>\n"
   ]
  },
  {
   "cell_type": "raw",
   "id": "6c8d879b",
   "metadata": {},
   "source": [
    ">>>import pathlib\n",
    "\n",
    ">>>p = pathlib.Path(\"monfichier.txt\")\n",
    "\n",
    ">>>p.exists()\n"
   ]
  },
  {
   "cell_type": "markdown",
   "id": "313c85d6",
   "metadata": {},
   "source": [
    "<h3>Rechercher des fichiers</h3>\n",
    "<p>Le module <code ><span >glob</span></code> permet d’effectuer une recherche dans l’arborescence\n",
    "    de fichiers. On peut utiliser le caractère <code><span >?</span></code> pour représenter n’importe\n",
    "    quel caractère et  <code ><span >*</span></code> pour représenter n’importe quelle suite de caractères.\n",
    "</p>\n",
    "\n",
    "<div>Avec le module <code><span>glob</span></code></div>"
   ]
  },
  {
   "cell_type": "raw",
   "id": "b256ec03",
   "metadata": {},
   "source": [
    ">>>import glob\n",
    "\n",
    ">>>liste_fichiers = glob.glob(\"*.py\")\n"
   ]
  },
  {
   "cell_type": "markdown",
   "id": "96a0100e",
   "metadata": {},
   "source": [
    "<p>Il est possible d’effectuer une recherche récursive (c’est-à-dire en incluant les sous répertoires)\n",
    "    en positionnant la paramètre <code><span>recursive</span></code> à <code><span>True</span></code> et en utilisant\n",
    "    la séquence <code ><span >**</span></code> pour indiquer un ou plusieurs sous répertoires.</p>\n",
    "<div>Avec le module <code ><span>glob</span></code></div>\n"
   ]
  },
  {
   "cell_type": "raw",
   "id": "9f5f27bc",
   "metadata": {},
   "source": [
    ">>>import glob\n",
    "\n",
    ">>>liste_fichiers = glob.glob(\"**/*.py\", recursive=True)"
   ]
  },
  {
   "cell_type": "markdown",
   "id": "3dc3f784",
   "metadata": {},
   "source": [
    "<p>La classe <code><span>Path</span></code> possède également la méthode\n",
    "    <code><span>glob()</span></code>.\n",
    "</p>\n",
    "<div>Avec le module <code><span>pathlib</span></code></div>\n"
   ]
  },
  {
   "cell_type": "raw",
   "id": "4d7c722c",
   "metadata": {},
   "source": [
    ">>>import pathlib\n",
    "\n",
    ">>>liste_fichiers = list(pathlib.Path.cwd().glob(\"**/*.py\"))"
   ]
  },
  {
   "cell_type": "markdown",
   "id": "24168e9f",
   "metadata": {},
   "source": [
    "<p>La méthode <code><span>glob()</span></code> retourne un itérateur sur des objets de\n",
    "    type <code><span>Path</span></code> plutôt qu’un tableau de chaînes de caractères comme\n",
    "    <code><span>glob.glob()</span></code>.\n",
    "</p>\n"
   ]
  },
  {
   "cell_type": "markdown",
   "id": "4919bfe3",
   "metadata": {},
   "source": [
    "<h2>Lecture de fichiers CSV</h2>\n",
    "<p>Le fichier CSV (<em>comma separated values</em>) est un format texte très simple pour\n",
    "    stocker des tables de données. Le module <code><span>csv</span></code> offre des méthodes pour lire\n",
    "    et écrire.\n",
    "</p>\n",
    "<p>Si on dispose du fichier suivant :</p>\n",
    "\n",
    "<div><span>Le fichier <em>filmographie.csv</em></span></div>"
   ]
  },
  {
   "cell_type": "raw",
   "id": "8add400f",
   "metadata": {},
   "source": [
    "1971,And Now for Something Completely Different\n",
    "1975,Holy Grail\n",
    "1979,Life of Brian\n",
    "1983,The Meaning of Life\n",
    "1996,The Wind in the Willows\n"
   ]
  },
  {
   "cell_type": "code",
   "execution_count": 25,
   "id": "2929bd21",
   "metadata": {},
   "outputs": [
    {
     "name": "stdout",
     "output_type": "stream",
     "text": [
      "['1971', 'And Now for Something Completely Different']\n",
      "['1975', 'Holy Grail']\n",
      "['1979', 'Life of Brian']\n",
      "['1983', 'The Meaning of Life']\n",
      "['1996', 'The Wind in the Willows']\n"
     ]
    }
   ],
   "source": [
    "import csv\n",
    "\n",
    "with open(\"filmographie.txt\") as f:\n",
    "    lecteur = csv.reader(f)\n",
    "    for ligne in lecteur:\n",
    "        print(ligne)\n"
   ]
  }
 ],
 "metadata": {
  "kernelspec": {
   "display_name": "Python 3",
   "language": "python",
   "name": "python3"
  },
  "language_info": {
   "codemirror_mode": {
    "name": "ipython",
    "version": 3
   },
   "file_extension": ".py",
   "mimetype": "text/x-python",
   "name": "python",
   "nbconvert_exporter": "python",
   "pygments_lexer": "ipython3",
   "version": "3.9.5"
  }
 },
 "nbformat": 4,
 "nbformat_minor": 5
}
